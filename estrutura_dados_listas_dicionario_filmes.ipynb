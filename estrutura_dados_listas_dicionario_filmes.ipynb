{
 "cells": [
  {
   "cell_type": "code",
   "execution_count": 1,
   "metadata": {},
   "outputs": [
    {
     "name": "stdout",
     "output_type": "stream",
     "text": [
      "['The Dark Knight', 'The Godfather', 'The Lord of the Rings: The Return of the King', 'Pulp Fiction', 'Interstellar', 'The Matrix', 'Forrest Gump', 'Fight Club', 'Inception', 'The Shawshank Redemption']\n"
     ]
    }
   ],
   "source": [
    "# Lista de top 10 filmes do IMDB pelo numero de avaliações\n",
    "filmes = [\"The Shawshank Redemption\" , \"The Godfather\" , \"The Dark Knight\" , \"The Lord of the Rings: The Return of the King\" , \"Pulp Fiction\" , \"Interstellar\" , \"The Matrix\" , \"Forrest Gump\" , \"Fight Club\" , \"Inception\"]\n",
    "\n",
    "# O filme \"The Dark Knight\" sobe para o topo do ranking\n",
    "filme = filmes.pop(filmes.index(\"The Dark Knight\"))\n",
    "filmes.insert(0, filme)\n",
    "\n",
    "# O filme \"The Shawshank Redemption\" cai para a última posição no ranking\n",
    "filme = filmes.pop(filmes.index(\"The Shawshank Redemption\"))\n",
    "filmes.append(filme)\n",
    "\n",
    "print(filmes)"
   ]
  },
  {
   "cell_type": "code",
   "execution_count": 3,
   "metadata": {},
   "outputs": [
    {
     "name": "stdout",
     "output_type": "stream",
     "text": [
      "['Pulp Fiction', 'The Godfather', 'The Lord of the Rings: The Return of the King', 'The Shawshank Redemption', 'The Dark Knight', 'Forrest Gump', 'Interstellar', 'Inception', 'Fight Club', 'The Matrix']\n"
     ]
    }
   ],
   "source": [
    "# Removendo Duplicadas da lista\n",
    "filmes = [\"The Shawshank Redemption\" , \"The Godfather\" , \"The Dark Knight\" , \"The Lord of the Rings: The Return of the King\" , \"Pulp Fiction\" , \"Interstellar\" , \"The Matrix\" , \"Forrest Gump\" , \"Fight Club\" , \"Inception\" , \"Inception\" , \"Inception\" , \"The Shawshank Redemption\"]\n",
    "\n",
    "# Removendo itens duplicados usando set e list perde a ordem\n",
    "filmes = list(set(filmes))\n",
    "\n",
    "print(filmes)"
   ]
  },
  {
   "cell_type": "code",
   "execution_count": 10,
   "metadata": {},
   "outputs": [
    {
     "name": "stdout",
     "output_type": "stream",
     "text": [
      "[{'nome': 'The Dark Knight', 'ano': 2008, 'sinopse': 'When the menace known as the Joker wreaks havoc and chaos on the people of Gotham, Batman must accept one of the greatest psychological and physical tests of his ability to fight injustice.'}, {'nome': 'The Godfather', 'ano': 1972, 'sinopse': 'The aging patriarch of an organized crime dynasty transfers control of his clandestine empire to his reluctant son.'}, {'nome': 'The Lord of the Rings: The Return of the King', 'ano': 2003, 'sinopse': 'Gandalf and Aragorn lead the World.'}, {'nome': 'Pulp Fiction', 'ano': 1994, 'sinopse': 'The lives of two mob hitmen, a boxer, a gangster and his wife, and a pair of diner bandits intertwine in four tales of violence and redemption.'}, {'nome': 'Interstellar', 'ano': 2014, 'sinopse': 'A team of explorers travel through a wormhole in space in an attempt to ensure humanity survival.'}, {'nome': 'The Matrix', 'ano': 1999, 'sinopse': 'A computer hacker learns from mysterious rebels about the true nature of his reality and his role in the war against its controllers.'}, {'nome': 'Forrest Gump', 'ano': 1994, 'sinopse': 'The presidencies of Kennedy and Johnson, Vietnam, Watergate, and other historical events unfold from the perspective.'}, {'nome': 'Fight Club', 'ano': 1999, 'sinopse': 'An insomniac office worker and a devil-may-care soapmaker form an underground fight club that evolves into something much, much more.'}, {'nome': 'Inception', 'ano': 2010, 'sinopse': 'A thief who steals corporate secrets through the use of dream-sharing technology is given the inverse task of planting an idea into the mind of a C.E.O.'}, {'nome': 'The Shawshank Redemption', 'ano': 1994, 'sinopse': 'Two imprisoned men bond over a number of years, finding solace and eventual redemption through acts of common decency.'}]\n",
      "1994\n",
      "The lives of two mob hitmen, a boxer, a gangster and his wife, and a pair of diner bandits intertwine in four tales of violence and redemption.\n"
     ]
    }
   ],
   "source": [
    "# Lista de filmes como dicionários incluso sinopse e ano\n",
    "filmes = [\n",
    "    {'nome': 'The Shawshank Redemption', 'ano': 1994, 'sinopse': 'Two imprisoned men bond over a number of years, finding solace and eventual redemption through acts of common decency.'},\n",
    "    {'nome': 'The Godfather', 'ano': 1972, 'sinopse': 'The aging patriarch of an organized crime dynasty transfers control of his clandestine empire to his reluctant son.'},\n",
    "    {'nome': 'The Dark Knight', 'ano': 2008, 'sinopse': 'When the menace known as the Joker wreaks havoc and chaos on the people of Gotham, Batman must accept one of the greatest psychological and physical tests of his ability to fight injustice.'},\n",
    "    {'nome': 'The Lord of the Rings: The Return of the King', 'ano': 2003, 'sinopse': 'Gandalf and Aragorn lead the World.'},\n",
    "    {'nome': 'Pulp Fiction', 'ano': 1994, 'sinopse': 'The lives of two mob hitmen, a boxer, a gangster and his wife, and a pair of diner bandits intertwine in four tales of violence and redemption.'},\n",
    "    {'nome': 'Interstellar', 'ano': 2014, 'sinopse': 'A team of explorers travel through a wormhole in space in an attempt to ensure humanity survival.'},\n",
    "    {'nome': 'The Matrix', 'ano': 1999, 'sinopse': 'A computer hacker learns from mysterious rebels about the true nature of his reality and his role in the war against its controllers.'},\n",
    "    {'nome': 'Forrest Gump', 'ano': 1994, 'sinopse': 'The presidencies of Kennedy and Johnson, Vietnam, Watergate, and other historical events unfold from the perspective.'},\n",
    "    {'nome': 'Fight Club', 'ano': 1999, 'sinopse': 'An insomniac office worker and a devil-may-care soapmaker form an underground fight club that evolves into something much, much more.'},\n",
    "    {'nome': 'Inception', 'ano': 2010, 'sinopse': 'A thief who steals corporate secrets through the use of dream-sharing technology is given the inverse task of planting an idea into the mind of a C.E.O.'},\n",
    "]\n",
    "\n",
    "# O filme \"The Dark Knight\" sobe para o topo do ranking\n",
    "filme = next(item for item in filmes if item[\"nome\"] == \"The Dark Knight\")\n",
    "filmes.remove(filme)\n",
    "filmes.insert(0, filme)\n",
    "\n",
    "# O filme \"The Shawshank Redemption\" cai para a última posição no ranking\n",
    "filme = next(item for item in filmes if item[\"nome\"] == \"The Shawshank Redemption\")\n",
    "filmes.remove(filme)\n",
    "filmes.append(filme)\n",
    "\n",
    "# Procurando o filme 'The Matrix' e imprimindo o ano\n",
    "filme = next(item for item in filmes if item[\"nome\"] == 'The Matrix')\n",
    "\n",
    "# Procurando a sinopse do filme 'Pulp Fiction'\n",
    "filme = next(item for item in filmes if item[\"nome\"] == 'Pulp Fiction')\n",
    "\n",
    "print(filmes)\n",
    "print(filme['ano'])\n",
    "print(filme['sinopse'])"
   ]
  }
 ],
 "metadata": {
  "kernelspec": {
   "display_name": "Python 3",
   "language": "python",
   "name": "python3"
  },
  "language_info": {
   "codemirror_mode": {
    "name": "ipython",
    "version": 3
   },
   "file_extension": ".py",
   "mimetype": "text/x-python",
   "name": "python",
   "nbconvert_exporter": "python",
   "pygments_lexer": "ipython3",
   "version": "3.12.3"
  }
 },
 "nbformat": 4,
 "nbformat_minor": 2
}
